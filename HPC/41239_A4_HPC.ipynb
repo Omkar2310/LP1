{
  "nbformat": 4,
  "nbformat_minor": 0,
  "metadata": {
    "colab": {
      "name": "41230_A4-HPC.ipynb",
      "provenance": [],
      "collapsed_sections": []
    },
    "kernelspec": {
      "name": "python3",
      "display_name": "Python 3"
    }
  },
  "cells": [
    {
      "cell_type": "code",
      "metadata": {
        "id": "fgIgEUWmFmAo",
        "colab": {
          "base_uri": "https://localhost:8080/"
        },
        "outputId": "c0101b52-802e-4a7b-d9fe-eb9ab1f26461"
      },
      "source": [
        "%%writefile binary.cpp\n",
        "#include<iostream>\n",
        "#include<omp.h>\n",
        "using namespace std;\n",
        "int par_result = -1;\n",
        "\n",
        "int binarysearch(int *array, int start, int end, int value) {\n",
        "    int mid;\n",
        "    \n",
        "    while(start <= end) {\n",
        "        mid = (start + end) / 2;\n",
        "        if(array[mid] == value) \n",
        "            return mid;\n",
        "        else if(array[mid] > value)\n",
        "            end = mid - 1;\n",
        "        else\n",
        "            start = mid + 1;\n",
        "    }\n",
        "    return -1;\n",
        "}\n",
        "\n",
        "\n",
        "int main(){\n",
        "  int *arr,i,j;\n",
        "  int n = 100000000;\n",
        "  srand(n);\n",
        "  arr=new int[n];\n",
        "  cout<<\"\\nArray to be searched: 0 - \"<<n;\n",
        "  for(int i=0; i<n; i++) {\n",
        "      arr[i] = i; \n",
        "  }\n",
        "  int val = rand()%n;\n",
        "  cout<<\"\\nValue to be searched: \"<<val<<endl;\n",
        "  //BINARY SEARCH\n",
        "\t \tint threads = 4;\n",
        "\t\tomp_set_num_threads(threads);\n",
        "\t\tint blocksize = n/threads;\n",
        "  //Calling parallel binary search\n",
        "\t\t#pragma omp parallel for shared(par_result)\n",
        "\t\tfor(int i =0;i<threads;i++){\n",
        "\t\t\t\tcout<<binarysearch(arr,i*blocksize,i*blocksize+blocksize-1,val)<<\" \";\n",
        "\t\t}\n",
        "  return 0;\n",
        "}"
      ],
      "execution_count": 1,
      "outputs": [
        {
          "output_type": "stream",
          "text": [
            "Writing binary.cpp\n"
          ],
          "name": "stdout"
        }
      ]
    },
    {
      "cell_type": "code",
      "metadata": {
        "id": "eRetGfHNM3h9"
      },
      "source": [
        "!g++ -fopenmp binary.cpp "
      ],
      "execution_count": 2,
      "outputs": []
    },
    {
      "cell_type": "code",
      "metadata": {
        "id": "00_LUTpVNDxw",
        "colab": {
          "base_uri": "https://localhost:8080/"
        },
        "outputId": "0a2b41e3-94d3-4b55-9ce9-1d802eae10ca"
      },
      "source": [
        "!./a.out"
      ],
      "execution_count": 3,
      "outputs": [
        {
          "output_type": "stream",
          "text": [
            "\n",
            "Array to be searched: 0 - 100000000\n",
            "Value to be searched: 67557522\n",
            "67557522 -1 -1 -1 "
          ],
          "name": "stdout"
        }
      ]
    },
    {
      "cell_type": "code",
      "metadata": {
        "id": "1SELcxHSwfr0",
        "colab": {
          "base_uri": "https://localhost:8080/"
        },
        "outputId": "0ff824f0-9fc4-4bc0-e681-509952fed2f6"
      },
      "source": [
        "%%writefile bfs.cpp\n",
        "#include<iostream>\n",
        "#include<omp.h>\n",
        "int visited[11];\n",
        "using namespace std;\n",
        "\n",
        "void bfs(int adj_matrix[11][11], int first, int last, int q[], int n_nodes) {\n",
        "    if(first==last)\n",
        "      return;\n",
        "    \n",
        "    int cur_node = q[first++];\n",
        "    cout<<cur_node<<\" \";\n",
        "    \n",
        "    omp_set_num_threads(3);\n",
        "    \n",
        "    #pragma omp parallel for shared(visited)\n",
        "    for(int i=0; i<n_nodes; i++) {\n",
        "        if(adj_matrix[cur_node][i] == 1 && visited[i] == 0){\n",
        "            q[last++] = i;\n",
        "            visited[i] = 1;\n",
        "        }\n",
        "    }\n",
        "    \n",
        "    bfs(adj_matrix, first, last, q, n_nodes);\n",
        "}\n",
        "\n",
        "int main() {\n",
        "    int first = 0;\n",
        "    int last = 0;\n",
        "    int n_nodes = rand()%10+2;\n",
        "    int q[100];\n",
        "    int local_q;\n",
        "    for(int i=0; i<n_nodes; i++) {\n",
        "        visited[i] = 0;\n",
        "    }\n",
        "    int adj_matrix[11][11];\n",
        "    cout<<\"\\nMatrix: \"<<endl;\n",
        "    for(int i=0; i<n_nodes;i++){\n",
        "        for(int j=0;j<n_nodes;j++){\n",
        "            adj_matrix[i][j] = rand()%2;\n",
        "            cout<<adj_matrix[i][j]<<\" \";\n",
        "        }\n",
        "        cout<<endl;\n",
        "    }\n",
        "    int start_node = rand()%n_nodes;\n",
        "    cout<<\"\\nStart node: \"<<start_node<<endl;\n",
        "    q[last++] = start_node;\n",
        "    visited[start_node] = 1;\n",
        "    bfs(adj_matrix, first, last, q, n_nodes);\n",
        "    return 0;\n",
        "    \n",
        "}"
      ],
      "execution_count": 4,
      "outputs": [
        {
          "output_type": "stream",
          "text": [
            "Writing bfs.cpp\n"
          ],
          "name": "stdout"
        }
      ]
    },
    {
      "cell_type": "code",
      "metadata": {
        "id": "vFkot0J94Lwy"
      },
      "source": [
        "!g++ -fopenmp bfs.cpp "
      ],
      "execution_count": 5,
      "outputs": []
    },
    {
      "cell_type": "code",
      "metadata": {
        "id": "en8PS1S54Sb3",
        "colab": {
          "base_uri": "https://localhost:8080/"
        },
        "outputId": "f3e2757b-9033-4880-b28f-5353fa30e6e3"
      },
      "source": [
        "!./a.out"
      ],
      "execution_count": 6,
      "outputs": [
        {
          "output_type": "stream",
          "text": [
            "\n",
            "Matrix: \n",
            "0 1 1 1 1 \n",
            "0 0 1 1 0 \n",
            "1 0 1 1 0 \n",
            "0 0 0 0 1 \n",
            "0 1 1 0 0 \n",
            "\n",
            "Start node: 2\n",
            "2 3 0 4 1 "
          ],
          "name": "stdout"
        }
      ]
    }
  ]
}