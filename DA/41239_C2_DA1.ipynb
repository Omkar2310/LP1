{
 "cells": [
  {
   "cell_type": "markdown",
   "metadata": {
    "colab_type": "text",
    "id": "view-in-github"
   },
   "source": [
    "<a href=\"https://colab.research.google.com/github/aditya-malte/Simple-LP1-Codes/blob/master/DA2(without_Sklearn_Naive_bayes).ipynb\" target=\"_parent\"><img src=\"https://colab.research.google.com/assets/colab-badge.svg\" alt=\"Open In Colab\"/></a>"
   ]
  },
  {
   "cell_type": "markdown",
   "metadata": {
    "colab_type": "text",
    "id": "Clwvj16FGltc"
   },
   "source": []
  },
  {
   "cell_type": "code",
   "execution_count": 30,
   "metadata": {},
   "outputs": [],
   "source": []
  },
  {
   "cell_type": "code",
   "execution_count": null,
   "metadata": {},
   "outputs": [],
   "source": []
  },
  {
   "cell_type": "code",
   "execution_count": 4,
   "metadata": {
    "colab": {},
    "colab_type": "code",
    "id": "_JxlybaBEzTs"
   },
   "outputs": [],
   "source": [
    "import pandas as pd\n",
    "from sklearn.model_selection import train_test_split\n",
    "from sklearn.metrics import confusion_matrix"
   ]
  },
  {
   "cell_type": "code",
   "execution_count": 5,
   "metadata": {
    "colab": {},
    "colab_type": "code",
    "id": "bjOQAgAvG_ZJ"
   },
   "outputs": [],
   "source": [
    "data = pd.read_csv(\"diabetes.csv\")"
   ]
  },
  {
   "cell_type": "code",
   "execution_count": 48,
   "metadata": {
    "colab": {},
    "colab_type": "code",
    "id": "VPNkxuP_PxZz"
   },
   "outputs": [
    {
     "data": {
      "text/html": [
       "<div>\n",
       "<style scoped>\n",
       "    .dataframe tbody tr th:only-of-type {\n",
       "        vertical-align: middle;\n",
       "    }\n",
       "\n",
       "    .dataframe tbody tr th {\n",
       "        vertical-align: top;\n",
       "    }\n",
       "\n",
       "    .dataframe thead th {\n",
       "        text-align: right;\n",
       "    }\n",
       "</style>\n",
       "<table border=\"1\" class=\"dataframe\">\n",
       "  <thead>\n",
       "    <tr style=\"text-align: right;\">\n",
       "      <th></th>\n",
       "      <th>Pregnancies</th>\n",
       "      <th>Glucose</th>\n",
       "      <th>BloodPressure</th>\n",
       "      <th>SkinThickness</th>\n",
       "      <th>Insulin</th>\n",
       "      <th>BMI</th>\n",
       "      <th>DiabetesPedigreeFunction</th>\n",
       "      <th>Age</th>\n",
       "      <th>Outcome</th>\n",
       "    </tr>\n",
       "  </thead>\n",
       "  <tbody>\n",
       "    <tr>\n",
       "      <th>0</th>\n",
       "      <td>6</td>\n",
       "      <td>148</td>\n",
       "      <td>72</td>\n",
       "      <td>35</td>\n",
       "      <td>0</td>\n",
       "      <td>33.6</td>\n",
       "      <td>0.627</td>\n",
       "      <td>50</td>\n",
       "      <td>1</td>\n",
       "    </tr>\n",
       "    <tr>\n",
       "      <th>1</th>\n",
       "      <td>1</td>\n",
       "      <td>85</td>\n",
       "      <td>66</td>\n",
       "      <td>29</td>\n",
       "      <td>0</td>\n",
       "      <td>26.6</td>\n",
       "      <td>0.351</td>\n",
       "      <td>31</td>\n",
       "      <td>0</td>\n",
       "    </tr>\n",
       "    <tr>\n",
       "      <th>2</th>\n",
       "      <td>8</td>\n",
       "      <td>183</td>\n",
       "      <td>64</td>\n",
       "      <td>0</td>\n",
       "      <td>0</td>\n",
       "      <td>23.3</td>\n",
       "      <td>0.672</td>\n",
       "      <td>32</td>\n",
       "      <td>1</td>\n",
       "    </tr>\n",
       "    <tr>\n",
       "      <th>3</th>\n",
       "      <td>1</td>\n",
       "      <td>89</td>\n",
       "      <td>66</td>\n",
       "      <td>23</td>\n",
       "      <td>94</td>\n",
       "      <td>28.1</td>\n",
       "      <td>0.167</td>\n",
       "      <td>21</td>\n",
       "      <td>0</td>\n",
       "    </tr>\n",
       "    <tr>\n",
       "      <th>4</th>\n",
       "      <td>0</td>\n",
       "      <td>137</td>\n",
       "      <td>40</td>\n",
       "      <td>35</td>\n",
       "      <td>168</td>\n",
       "      <td>43.1</td>\n",
       "      <td>2.288</td>\n",
       "      <td>33</td>\n",
       "      <td>1</td>\n",
       "    </tr>\n",
       "  </tbody>\n",
       "</table>\n",
       "</div>"
      ],
      "text/plain": [
       "   Pregnancies  Glucose  BloodPressure  SkinThickness  Insulin   BMI  \\\n",
       "0            6      148             72             35        0  33.6   \n",
       "1            1       85             66             29        0  26.6   \n",
       "2            8      183             64              0        0  23.3   \n",
       "3            1       89             66             23       94  28.1   \n",
       "4            0      137             40             35      168  43.1   \n",
       "\n",
       "   DiabetesPedigreeFunction  Age  Outcome  \n",
       "0                     0.627   50        1  \n",
       "1                     0.351   31        0  \n",
       "2                     0.672   32        1  \n",
       "3                     0.167   21        0  \n",
       "4                     2.288   33        1  "
      ]
     },
     "execution_count": 48,
     "metadata": {},
     "output_type": "execute_result"
    }
   ],
   "source": [
    "data.head()"
   ]
  },
  {
   "cell_type": "code",
   "execution_count": null,
   "metadata": {
    "colab": {},
    "colab_type": "code",
    "id": "nfNPgDloP3hb"
   },
   "outputs": [],
   "source": []
  },
  {
   "cell_type": "code",
   "execution_count": 8,
   "metadata": {
    "colab": {
     "base_uri": "https://localhost:8080/",
     "height": 204
    },
    "colab_type": "code",
    "id": "5mtlJMa6HE83",
    "outputId": "6fe224ef-3bc9-4c9e-d0a9-9f40a07bc021"
   },
   "outputs": [
    {
     "data": {
      "text/html": [
       "<div>\n",
       "<style scoped>\n",
       "    .dataframe tbody tr th:only-of-type {\n",
       "        vertical-align: middle;\n",
       "    }\n",
       "\n",
       "    .dataframe tbody tr th {\n",
       "        vertical-align: top;\n",
       "    }\n",
       "\n",
       "    .dataframe thead th {\n",
       "        text-align: right;\n",
       "    }\n",
       "</style>\n",
       "<table border=\"1\" class=\"dataframe\">\n",
       "  <thead>\n",
       "    <tr style=\"text-align: right;\">\n",
       "      <th></th>\n",
       "      <th>Pregnancies</th>\n",
       "      <th>Glucose</th>\n",
       "      <th>BloodPressure</th>\n",
       "      <th>SkinThickness</th>\n",
       "      <th>Insulin</th>\n",
       "      <th>BMI</th>\n",
       "      <th>DiabetesPedigreeFunction</th>\n",
       "      <th>Age</th>\n",
       "      <th>Outcome</th>\n",
       "    </tr>\n",
       "  </thead>\n",
       "  <tbody>\n",
       "    <tr>\n",
       "      <th>0</th>\n",
       "      <td>6</td>\n",
       "      <td>148</td>\n",
       "      <td>72</td>\n",
       "      <td>35</td>\n",
       "      <td>0</td>\n",
       "      <td>33.6</td>\n",
       "      <td>0.627</td>\n",
       "      <td>50</td>\n",
       "      <td>1</td>\n",
       "    </tr>\n",
       "    <tr>\n",
       "      <th>1</th>\n",
       "      <td>1</td>\n",
       "      <td>85</td>\n",
       "      <td>66</td>\n",
       "      <td>29</td>\n",
       "      <td>0</td>\n",
       "      <td>26.6</td>\n",
       "      <td>0.351</td>\n",
       "      <td>31</td>\n",
       "      <td>0</td>\n",
       "    </tr>\n",
       "    <tr>\n",
       "      <th>2</th>\n",
       "      <td>8</td>\n",
       "      <td>183</td>\n",
       "      <td>64</td>\n",
       "      <td>0</td>\n",
       "      <td>0</td>\n",
       "      <td>23.3</td>\n",
       "      <td>0.672</td>\n",
       "      <td>32</td>\n",
       "      <td>1</td>\n",
       "    </tr>\n",
       "    <tr>\n",
       "      <th>3</th>\n",
       "      <td>1</td>\n",
       "      <td>89</td>\n",
       "      <td>66</td>\n",
       "      <td>23</td>\n",
       "      <td>94</td>\n",
       "      <td>28.1</td>\n",
       "      <td>0.167</td>\n",
       "      <td>21</td>\n",
       "      <td>0</td>\n",
       "    </tr>\n",
       "    <tr>\n",
       "      <th>4</th>\n",
       "      <td>0</td>\n",
       "      <td>137</td>\n",
       "      <td>40</td>\n",
       "      <td>35</td>\n",
       "      <td>168</td>\n",
       "      <td>43.1</td>\n",
       "      <td>2.288</td>\n",
       "      <td>33</td>\n",
       "      <td>1</td>\n",
       "    </tr>\n",
       "  </tbody>\n",
       "</table>\n",
       "</div>"
      ],
      "text/plain": [
       "   Pregnancies  Glucose  BloodPressure  SkinThickness  Insulin   BMI  \\\n",
       "0            6      148             72             35        0  33.6   \n",
       "1            1       85             66             29        0  26.6   \n",
       "2            8      183             64              0        0  23.3   \n",
       "3            1       89             66             23       94  28.1   \n",
       "4            0      137             40             35      168  43.1   \n",
       "\n",
       "   DiabetesPedigreeFunction  Age  Outcome  \n",
       "0                     0.627   50        1  \n",
       "1                     0.351   31        0  \n",
       "2                     0.672   32        1  \n",
       "3                     0.167   21        0  \n",
       "4                     2.288   33        1  "
      ]
     },
     "execution_count": 8,
     "metadata": {},
     "output_type": "execute_result"
    }
   ],
   "source": [
    "data.head()"
   ]
  },
  {
   "cell_type": "code",
   "execution_count": 9,
   "metadata": {
    "colab": {
     "base_uri": "https://localhost:8080/",
     "height": 286
    },
    "colab_type": "code",
    "id": "aLNss8UoJCVG",
    "outputId": "d9b1cd21-a0ef-4c28-f9dd-32db66758c4e"
   },
   "outputs": [
    {
     "data": {
      "text/plain": [
       "<matplotlib.axes._subplots.AxesSubplot at 0x7f361eab1320>"
      ]
     },
     "execution_count": 9,
     "metadata": {},
     "output_type": "execute_result"
    }
   ],
   "source": [
    "data[\"Outcome\"].hist()"
   ]
  },
  {
   "cell_type": "code",
   "execution_count": 12,
   "metadata": {
    "colab": {},
    "colab_type": "code",
    "id": "aqCBNXMGHG4I"
   },
   "outputs": [],
   "source": [
    "y = data[\"Outcome\"]\n",
    "X = data.drop([\"Outcome\"], axis=1)"
   ]
  },
  {
   "cell_type": "code",
   "execution_count": 13,
   "metadata": {
    "colab": {
     "base_uri": "https://localhost:8080/",
     "height": 204
    },
    "colab_type": "code",
    "id": "a0Pb_NybOrwa",
    "outputId": "0633f27a-f0c3-426d-fe64-95263725ff64"
   },
   "outputs": [
    {
     "data": {
      "text/html": [
       "<div>\n",
       "<style scoped>\n",
       "    .dataframe tbody tr th:only-of-type {\n",
       "        vertical-align: middle;\n",
       "    }\n",
       "\n",
       "    .dataframe tbody tr th {\n",
       "        vertical-align: top;\n",
       "    }\n",
       "\n",
       "    .dataframe thead th {\n",
       "        text-align: right;\n",
       "    }\n",
       "</style>\n",
       "<table border=\"1\" class=\"dataframe\">\n",
       "  <thead>\n",
       "    <tr style=\"text-align: right;\">\n",
       "      <th></th>\n",
       "      <th>Pregnancies</th>\n",
       "      <th>Glucose</th>\n",
       "      <th>BloodPressure</th>\n",
       "      <th>SkinThickness</th>\n",
       "      <th>Insulin</th>\n",
       "      <th>BMI</th>\n",
       "      <th>DiabetesPedigreeFunction</th>\n",
       "      <th>Age</th>\n",
       "    </tr>\n",
       "  </thead>\n",
       "  <tbody>\n",
       "    <tr>\n",
       "      <th>0</th>\n",
       "      <td>6</td>\n",
       "      <td>148</td>\n",
       "      <td>72</td>\n",
       "      <td>35</td>\n",
       "      <td>0</td>\n",
       "      <td>33.6</td>\n",
       "      <td>0.627</td>\n",
       "      <td>50</td>\n",
       "    </tr>\n",
       "    <tr>\n",
       "      <th>1</th>\n",
       "      <td>1</td>\n",
       "      <td>85</td>\n",
       "      <td>66</td>\n",
       "      <td>29</td>\n",
       "      <td>0</td>\n",
       "      <td>26.6</td>\n",
       "      <td>0.351</td>\n",
       "      <td>31</td>\n",
       "    </tr>\n",
       "    <tr>\n",
       "      <th>2</th>\n",
       "      <td>8</td>\n",
       "      <td>183</td>\n",
       "      <td>64</td>\n",
       "      <td>0</td>\n",
       "      <td>0</td>\n",
       "      <td>23.3</td>\n",
       "      <td>0.672</td>\n",
       "      <td>32</td>\n",
       "    </tr>\n",
       "    <tr>\n",
       "      <th>3</th>\n",
       "      <td>1</td>\n",
       "      <td>89</td>\n",
       "      <td>66</td>\n",
       "      <td>23</td>\n",
       "      <td>94</td>\n",
       "      <td>28.1</td>\n",
       "      <td>0.167</td>\n",
       "      <td>21</td>\n",
       "    </tr>\n",
       "    <tr>\n",
       "      <th>4</th>\n",
       "      <td>0</td>\n",
       "      <td>137</td>\n",
       "      <td>40</td>\n",
       "      <td>35</td>\n",
       "      <td>168</td>\n",
       "      <td>43.1</td>\n",
       "      <td>2.288</td>\n",
       "      <td>33</td>\n",
       "    </tr>\n",
       "  </tbody>\n",
       "</table>\n",
       "</div>"
      ],
      "text/plain": [
       "   Pregnancies  Glucose  BloodPressure  SkinThickness  Insulin   BMI  \\\n",
       "0            6      148             72             35        0  33.6   \n",
       "1            1       85             66             29        0  26.6   \n",
       "2            8      183             64              0        0  23.3   \n",
       "3            1       89             66             23       94  28.1   \n",
       "4            0      137             40             35      168  43.1   \n",
       "\n",
       "   DiabetesPedigreeFunction  Age  \n",
       "0                     0.627   50  \n",
       "1                     0.351   31  \n",
       "2                     0.672   32  \n",
       "3                     0.167   21  \n",
       "4                     2.288   33  "
      ]
     },
     "execution_count": 13,
     "metadata": {},
     "output_type": "execute_result"
    }
   ],
   "source": [
    "X.head()"
   ]
  },
  {
   "cell_type": "code",
   "execution_count": 14,
   "metadata": {
    "colab": {
     "base_uri": "https://localhost:8080/",
     "height": 119
    },
    "colab_type": "code",
    "id": "6tl8wIsaHio7",
    "outputId": "628a9904-09ef-4033-9248-eef4e89d433a"
   },
   "outputs": [
    {
     "data": {
      "text/plain": [
       "0    1\n",
       "1    0\n",
       "2    1\n",
       "3    0\n",
       "4    1\n",
       "Name: Outcome, dtype: int64"
      ]
     },
     "execution_count": 14,
     "metadata": {},
     "output_type": "execute_result"
    }
   ],
   "source": [
    "y.head()"
   ]
  },
  {
   "cell_type": "code",
   "execution_count": 15,
   "metadata": {
    "colab": {},
    "colab_type": "code",
    "id": "oZJrCIjO-uK8"
   },
   "outputs": [],
   "source": [
    "train_X, test_X, train_y, test_y = train_test_split(X, y, test_size=0.3)"
   ]
  },
  {
   "cell_type": "code",
   "execution_count": 16,
   "metadata": {
    "colab": {
     "base_uri": "https://localhost:8080/",
     "height": 204
    },
    "colab_type": "code",
    "id": "banVVfhp-uIJ",
    "outputId": "6ba7caf1-1290-4c48-f6be-c1d82b14c875"
   },
   "outputs": [
    {
     "data": {
      "text/html": [
       "<div>\n",
       "<style scoped>\n",
       "    .dataframe tbody tr th:only-of-type {\n",
       "        vertical-align: middle;\n",
       "    }\n",
       "\n",
       "    .dataframe tbody tr th {\n",
       "        vertical-align: top;\n",
       "    }\n",
       "\n",
       "    .dataframe thead th {\n",
       "        text-align: right;\n",
       "    }\n",
       "</style>\n",
       "<table border=\"1\" class=\"dataframe\">\n",
       "  <thead>\n",
       "    <tr style=\"text-align: right;\">\n",
       "      <th></th>\n",
       "      <th>Pregnancies</th>\n",
       "      <th>Glucose</th>\n",
       "      <th>BloodPressure</th>\n",
       "      <th>SkinThickness</th>\n",
       "      <th>Insulin</th>\n",
       "      <th>BMI</th>\n",
       "      <th>DiabetesPedigreeFunction</th>\n",
       "      <th>Age</th>\n",
       "    </tr>\n",
       "  </thead>\n",
       "  <tbody>\n",
       "    <tr>\n",
       "      <th>62</th>\n",
       "      <td>5</td>\n",
       "      <td>44</td>\n",
       "      <td>62</td>\n",
       "      <td>0</td>\n",
       "      <td>0</td>\n",
       "      <td>25.0</td>\n",
       "      <td>0.587</td>\n",
       "      <td>36</td>\n",
       "    </tr>\n",
       "    <tr>\n",
       "      <th>731</th>\n",
       "      <td>8</td>\n",
       "      <td>120</td>\n",
       "      <td>86</td>\n",
       "      <td>0</td>\n",
       "      <td>0</td>\n",
       "      <td>28.4</td>\n",
       "      <td>0.259</td>\n",
       "      <td>22</td>\n",
       "    </tr>\n",
       "    <tr>\n",
       "      <th>664</th>\n",
       "      <td>6</td>\n",
       "      <td>115</td>\n",
       "      <td>60</td>\n",
       "      <td>39</td>\n",
       "      <td>0</td>\n",
       "      <td>33.7</td>\n",
       "      <td>0.245</td>\n",
       "      <td>40</td>\n",
       "    </tr>\n",
       "    <tr>\n",
       "      <th>4</th>\n",
       "      <td>0</td>\n",
       "      <td>137</td>\n",
       "      <td>40</td>\n",
       "      <td>35</td>\n",
       "      <td>168</td>\n",
       "      <td>43.1</td>\n",
       "      <td>2.288</td>\n",
       "      <td>33</td>\n",
       "    </tr>\n",
       "    <tr>\n",
       "      <th>227</th>\n",
       "      <td>3</td>\n",
       "      <td>162</td>\n",
       "      <td>52</td>\n",
       "      <td>38</td>\n",
       "      <td>0</td>\n",
       "      <td>37.2</td>\n",
       "      <td>0.652</td>\n",
       "      <td>24</td>\n",
       "    </tr>\n",
       "  </tbody>\n",
       "</table>\n",
       "</div>"
      ],
      "text/plain": [
       "     Pregnancies  Glucose  BloodPressure  SkinThickness  Insulin   BMI  \\\n",
       "62             5       44             62              0        0  25.0   \n",
       "731            8      120             86              0        0  28.4   \n",
       "664            6      115             60             39        0  33.7   \n",
       "4              0      137             40             35      168  43.1   \n",
       "227            3      162             52             38        0  37.2   \n",
       "\n",
       "     DiabetesPedigreeFunction  Age  \n",
       "62                      0.587   36  \n",
       "731                     0.259   22  \n",
       "664                     0.245   40  \n",
       "4                       2.288   33  \n",
       "227                     0.652   24  "
      ]
     },
     "execution_count": 16,
     "metadata": {},
     "output_type": "execute_result"
    }
   ],
   "source": [
    "train_X.head()"
   ]
  },
  {
   "cell_type": "code",
   "execution_count": 17,
   "metadata": {
    "colab": {
     "base_uri": "https://localhost:8080/",
     "height": 119
    },
    "colab_type": "code",
    "id": "988ZlydE-sS7",
    "outputId": "84545ccf-d2c5-4581-8eaa-53fc1a0e0077"
   },
   "outputs": [
    {
     "data": {
      "text/plain": [
       "62     0\n",
       "731    1\n",
       "664    1\n",
       "4      1\n",
       "227    1\n",
       "Name: Outcome, dtype: int64"
      ]
     },
     "execution_count": 17,
     "metadata": {},
     "output_type": "execute_result"
    }
   ],
   "source": [
    "train_y.head()"
   ]
  },
  {
   "cell_type": "code",
   "execution_count": 18,
   "metadata": {
    "colab": {
     "base_uri": "https://localhost:8080/",
     "height": 204
    },
    "colab_type": "code",
    "id": "OqX5TdfS-sGl",
    "outputId": "03354305-5dab-4c69-be9a-518931f02286"
   },
   "outputs": [
    {
     "data": {
      "text/html": [
       "<div>\n",
       "<style scoped>\n",
       "    .dataframe tbody tr th:only-of-type {\n",
       "        vertical-align: middle;\n",
       "    }\n",
       "\n",
       "    .dataframe tbody tr th {\n",
       "        vertical-align: top;\n",
       "    }\n",
       "\n",
       "    .dataframe thead th {\n",
       "        text-align: right;\n",
       "    }\n",
       "</style>\n",
       "<table border=\"1\" class=\"dataframe\">\n",
       "  <thead>\n",
       "    <tr style=\"text-align: right;\">\n",
       "      <th></th>\n",
       "      <th>Pregnancies</th>\n",
       "      <th>Glucose</th>\n",
       "      <th>BloodPressure</th>\n",
       "      <th>SkinThickness</th>\n",
       "      <th>Insulin</th>\n",
       "      <th>BMI</th>\n",
       "      <th>DiabetesPedigreeFunction</th>\n",
       "      <th>Age</th>\n",
       "    </tr>\n",
       "  </thead>\n",
       "  <tbody>\n",
       "    <tr>\n",
       "      <th>318</th>\n",
       "      <td>3</td>\n",
       "      <td>115</td>\n",
       "      <td>66</td>\n",
       "      <td>39</td>\n",
       "      <td>140</td>\n",
       "      <td>38.1</td>\n",
       "      <td>0.150</td>\n",
       "      <td>28</td>\n",
       "    </tr>\n",
       "    <tr>\n",
       "      <th>344</th>\n",
       "      <td>8</td>\n",
       "      <td>95</td>\n",
       "      <td>72</td>\n",
       "      <td>0</td>\n",
       "      <td>0</td>\n",
       "      <td>36.8</td>\n",
       "      <td>0.485</td>\n",
       "      <td>57</td>\n",
       "    </tr>\n",
       "    <tr>\n",
       "      <th>491</th>\n",
       "      <td>2</td>\n",
       "      <td>89</td>\n",
       "      <td>90</td>\n",
       "      <td>30</td>\n",
       "      <td>0</td>\n",
       "      <td>33.5</td>\n",
       "      <td>0.292</td>\n",
       "      <td>42</td>\n",
       "    </tr>\n",
       "    <tr>\n",
       "      <th>702</th>\n",
       "      <td>1</td>\n",
       "      <td>168</td>\n",
       "      <td>88</td>\n",
       "      <td>29</td>\n",
       "      <td>0</td>\n",
       "      <td>35.0</td>\n",
       "      <td>0.905</td>\n",
       "      <td>52</td>\n",
       "    </tr>\n",
       "    <tr>\n",
       "      <th>152</th>\n",
       "      <td>9</td>\n",
       "      <td>156</td>\n",
       "      <td>86</td>\n",
       "      <td>28</td>\n",
       "      <td>155</td>\n",
       "      <td>34.3</td>\n",
       "      <td>1.189</td>\n",
       "      <td>42</td>\n",
       "    </tr>\n",
       "  </tbody>\n",
       "</table>\n",
       "</div>"
      ],
      "text/plain": [
       "     Pregnancies  Glucose  BloodPressure  SkinThickness  Insulin   BMI  \\\n",
       "318            3      115             66             39      140  38.1   \n",
       "344            8       95             72              0        0  36.8   \n",
       "491            2       89             90             30        0  33.5   \n",
       "702            1      168             88             29        0  35.0   \n",
       "152            9      156             86             28      155  34.3   \n",
       "\n",
       "     DiabetesPedigreeFunction  Age  \n",
       "318                     0.150   28  \n",
       "344                     0.485   57  \n",
       "491                     0.292   42  \n",
       "702                     0.905   52  \n",
       "152                     1.189   42  "
      ]
     },
     "execution_count": 18,
     "metadata": {},
     "output_type": "execute_result"
    }
   ],
   "source": [
    "test_X.head()"
   ]
  },
  {
   "cell_type": "code",
   "execution_count": 19,
   "metadata": {
    "colab": {
     "base_uri": "https://localhost:8080/",
     "height": 119
    },
    "colab_type": "code",
    "id": "Nil5Y1Vy-r1G",
    "outputId": "a485a426-11c7-473d-c0d0-387ab0c7bc38"
   },
   "outputs": [
    {
     "data": {
      "text/plain": [
       "318    0\n",
       "344    0\n",
       "491    0\n",
       "702    1\n",
       "152    1\n",
       "Name: Outcome, dtype: int64"
      ]
     },
     "execution_count": 19,
     "metadata": {},
     "output_type": "execute_result"
    }
   ],
   "source": [
    "test_y.head()"
   ]
  },
  {
   "cell_type": "code",
   "execution_count": 20,
   "metadata": {
    "colab": {},
    "colab_type": "code",
    "id": "qmaTaaGB-roE"
   },
   "outputs": [],
   "source": [
    "#generate summary\n",
    "train_mean_pos = train_X[train_y==1].mean()\n",
    "train_std_pos = train_X[train_y==1].std()\n",
    "train_mean_neg = train_X[train_y==0].mean()\n",
    "train_std_neg = train_X[train_y==0].std()"
   ]
  },
  {
   "cell_type": "code",
   "execution_count": 21,
   "metadata": {
    "colab": {
     "base_uri": "https://localhost:8080/",
     "height": 170
    },
    "colab_type": "code",
    "id": "3XWUc3Y1_3OX",
    "outputId": "08f71356-ba8a-4f1a-ffc1-c0526c91cbb4"
   },
   "outputs": [
    {
     "data": {
      "text/plain": [
       "Pregnancies                   4.915344\n",
       "Glucose                     141.476190\n",
       "BloodPressure                71.428571\n",
       "SkinThickness                21.883598\n",
       "Insulin                     102.142857\n",
       "BMI                          34.706878\n",
       "DiabetesPedigreeFunction      0.562190\n",
       "Age                          37.343915\n",
       "dtype: float64"
      ]
     },
     "execution_count": 21,
     "metadata": {},
     "output_type": "execute_result"
    }
   ],
   "source": [
    "train_mean_pos"
   ]
  },
  {
   "cell_type": "code",
   "execution_count": 22,
   "metadata": {
    "colab": {
     "base_uri": "https://localhost:8080/",
     "height": 170
    },
    "colab_type": "code",
    "id": "j2EeCpMD_0x0",
    "outputId": "e30761ae-98d3-4efb-985a-3e78aae87953"
   },
   "outputs": [
    {
     "data": {
      "text/plain": [
       "Pregnancies                   3.611923\n",
       "Glucose                      31.723468\n",
       "BloodPressure                19.437610\n",
       "SkinThickness                16.741057\n",
       "Insulin                     140.307738\n",
       "BMI                           6.767830\n",
       "DiabetesPedigreeFunction      0.385605\n",
       "Age                          11.132339\n",
       "dtype: float64"
      ]
     },
     "execution_count": 22,
     "metadata": {},
     "output_type": "execute_result"
    }
   ],
   "source": [
    "train_std_pos"
   ]
  },
  {
   "cell_type": "code",
   "execution_count": 23,
   "metadata": {
    "colab": {
     "base_uri": "https://localhost:8080/",
     "height": 170
    },
    "colab_type": "code",
    "id": "DDITv26B__S5",
    "outputId": "d9204406-758d-40f9-ea31-1cdf644e5eda"
   },
   "outputs": [
    {
     "data": {
      "text/plain": [
       "Pregnancies                   3.298851\n",
       "Glucose                     111.172414\n",
       "BloodPressure                67.695402\n",
       "SkinThickness                18.479885\n",
       "Insulin                      66.540230\n",
       "BMI                          30.111782\n",
       "DiabetesPedigreeFunction      0.420195\n",
       "Age                          31.089080\n",
       "dtype: float64"
      ]
     },
     "execution_count": 23,
     "metadata": {},
     "output_type": "execute_result"
    }
   ],
   "source": [
    "train_mean_neg"
   ]
  },
  {
   "cell_type": "code",
   "execution_count": 24,
   "metadata": {
    "colab": {
     "base_uri": "https://localhost:8080/",
     "height": 170
    },
    "colab_type": "code",
    "id": "rSaq-zJdAB3I",
    "outputId": "ea9ee347-6056-4433-ddf5-6827bfa077e2"
   },
   "outputs": [
    {
     "data": {
      "text/plain": [
       "Pregnancies                  2.961287\n",
       "Glucose                     26.601752\n",
       "BloodPressure               18.996717\n",
       "SkinThickness               14.573757\n",
       "Insulin                     96.165630\n",
       "BMI                          7.575142\n",
       "DiabetesPedigreeFunction     0.280810\n",
       "Age                         11.465804\n",
       "dtype: float64"
      ]
     },
     "execution_count": 24,
     "metadata": {},
     "output_type": "execute_result"
    }
   ],
   "source": [
    "train_std_neg"
   ]
  },
  {
   "cell_type": "code",
   "execution_count": 25,
   "metadata": {
    "colab": {},
    "colab_type": "code",
    "id": "A653-DtXAtei"
   },
   "outputs": [],
   "source": [
    "summary = { \"train_mean_pos\": train_mean_pos.tolist() , \"train_std_pos\": train_std_pos.tolist(), \n",
    "           \"train_mean_neg\": train_mean_neg.tolist(), \"train_std_neg\": train_std_neg.tolist()}"
   ]
  },
  {
   "cell_type": "code",
   "execution_count": 26,
   "metadata": {
    "colab": {
     "base_uri": "https://localhost:8080/",
     "height": 561
    },
    "colab_type": "code",
    "id": "6sQm2wSvBBsj",
    "outputId": "be88f19d-b5db-4255-edaa-de55149bba6f"
   },
   "outputs": [
    {
     "data": {
      "text/plain": [
       "{'train_mean_pos': [4.915343915343915,\n",
       "  141.47619047619048,\n",
       "  71.42857142857143,\n",
       "  21.883597883597883,\n",
       "  102.14285714285714,\n",
       "  34.706878306878316,\n",
       "  0.5621904761904762,\n",
       "  37.34391534391534],\n",
       " 'train_std_pos': [3.6119228557929484,\n",
       "  31.72346796068941,\n",
       "  19.437609644527,\n",
       "  16.741056544328995,\n",
       "  140.30773819777815,\n",
       "  6.767829509305543,\n",
       "  0.3856054588680179,\n",
       "  11.132338722820263],\n",
       " 'train_mean_neg': [3.2988505747126435,\n",
       "  111.17241379310344,\n",
       "  67.69540229885058,\n",
       "  18.479885057471265,\n",
       "  66.54022988505747,\n",
       "  30.11178160919539,\n",
       "  0.4201954022988506,\n",
       "  31.089080459770116],\n",
       " 'train_std_neg': [2.9612869798503763,\n",
       "  26.601751538853797,\n",
       "  18.9967168893849,\n",
       "  14.573757473732595,\n",
       "  96.16562976486861,\n",
       "  7.5751416789714705,\n",
       "  0.2808095066036283,\n",
       "  11.465804127129156]}"
      ]
     },
     "execution_count": 26,
     "metadata": {},
     "output_type": "execute_result"
    }
   ],
   "source": [
    "summary"
   ]
  },
  {
   "cell_type": "code",
   "execution_count": 27,
   "metadata": {
    "colab": {},
    "colab_type": "code",
    "id": "9OfQxddHGVit"
   },
   "outputs": [],
   "source": [
    "import numpy as np\n",
    "def cond_prob(x, mn, stddv):  \n",
    "    varnc = stddv*stddv\n",
    "    p = 1/(np.sqrt(2*np.pi*varnc)) * np.exp((-(x-mn)**2)/(2*varnc))\n",
    "    return p\n"
   ]
  },
  {
   "cell_type": "code",
   "execution_count": 28,
   "metadata": {
    "colab": {},
    "colab_type": "code",
    "id": "ZQr814itBl9o"
   },
   "outputs": [],
   "source": [
    "def predict(row, summary):\n",
    "\n",
    "  prob_positive=len(summary[\"train_mean_pos\"])/( len(summary[\"train_mean_pos\"])+len(summary[\"train_mean_neg\"]) )\n",
    "  \n",
    "  for i in range(0, len(row)):\n",
    "    prob_positive = prob_positive * cond_prob(row[i],summary[\"train_mean_pos\"][i], summary[\"train_std_pos\"][i])\n",
    "  \n",
    "\n",
    "  \n",
    "  prob_negative=len(summary[\"train_mean_neg\"])/( len(summary[\"train_mean_pos\"])+len(summary[\"train_mean_neg\"]) )\n",
    "  for i in range(0, len(row)):\n",
    "    prob_negative = prob_negative * cond_prob(row[i],summary[\"train_mean_neg\"][i], summary[\"train_std_neg\"][i])\n",
    "  \n",
    "  return [prob_positive, prob_negative]"
   ]
  },
  {
   "cell_type": "code",
   "execution_count": 29,
   "metadata": {
    "colab": {},
    "colab_type": "code",
    "id": "XbhkGL0KAeYQ"
   },
   "outputs": [],
   "source": [
    "predictions_raw = []\n",
    "for row in test_X.values.tolist():\n",
    "  predictions_raw.append(predict(row, summary))"
   ]
  },
  {
   "cell_type": "code",
   "execution_count": 30,
   "metadata": {},
   "outputs": [
    {
     "data": {
      "text/plain": [
       "(231,)"
      ]
     },
     "execution_count": 30,
     "metadata": {},
     "output_type": "execute_result"
    }
   ],
   "source": [
    "test_y.shape"
   ]
  },
  {
   "cell_type": "code",
   "execution_count": 31,
   "metadata": {
    "colab": {
     "base_uri": "https://localhost:8080/",
     "height": 1000
    },
    "colab_type": "code",
    "id": "CGfbhqScJKfm",
    "outputId": "a4a6ec61-33ef-4987-ec98-4b1a9a53a0e6"
   },
   "outputs": [
    {
     "data": {
      "text/plain": [
       "[[2.492904179313926e-13, 5.935517931227448e-13],\n",
       " [3.2153620435248286e-14, 2.604992044112329e-14],\n",
       " [1.1828956706309199e-13, 6.031355169365159e-13],\n",
       " [1.1400746278950908e-13, 5.629400989579268e-15],\n",
       " [1.610070024126662e-13, 1.0167382326286815e-15],\n",
       " [6.597081567937864e-14, 1.9885587830451647e-15],\n",
       " [2.9443174066682996e-16, 4.9088969872780135e-20],\n",
       " [1.1791185617566627e-13, 7.368334587569149e-14],\n",
       " [1.987884007030892e-14, 2.9474360075025965e-13],\n",
       " [1.9784182637106998e-14, 1.7152277087167165e-15],\n",
       " [8.886583950750865e-14, 2.059775528460091e-12],\n",
       " [2.4564784937950938e-14, 2.360968070938082e-15],\n",
       " [1.3052850313401935e-17, 9.109891392203707e-16],\n",
       " [9.581758353985855e-14, 2.2136123946948263e-12],\n",
       " [1.170986040437736e-14, 9.495757981552706e-13],\n",
       " [2.899320850967867e-13, 8.646050615810118e-13],\n",
       " [2.5976418868739117e-15, 1.28241738206581e-15],\n",
       " [5.279357475106089e-14, 5.635595356452177e-13],\n",
       " [2.0284982013685242e-15, 2.5841291445525526e-13],\n",
       " [4.101752055551911e-14, 1.2490136993394645e-16],\n",
       " [5.329716254597395e-15, 1.0543788372439959e-14],\n",
       " [9.026880112170378e-15, 8.684540519243016e-13],\n",
       " [1.3482938951990779e-15, 4.569162697270072e-19],\n",
       " [7.257410829452437e-14, 8.196014432679934e-14],\n",
       " [1.8804755532046694e-13, 3.114694804068262e-14],\n",
       " [9.048812181622142e-14, 2.4208251638791884e-16],\n",
       " [2.383092595362587e-14, 1.5124745775842992e-13],\n",
       " [2.66446869965287e-13, 5.17425313892836e-14],\n",
       " [2.460874104097287e-14, 1.159294908232648e-12],\n",
       " [1.3839507341860681e-14, 4.5387609880218194e-13],\n",
       " [4.7033634992812224e-15, 2.504581469740664e-13],\n",
       " [2.1201659433145293e-14, 6.151895838237548e-15],\n",
       " [4.2142280959066305e-13, 2.4666160078583406e-12],\n",
       " [1.0808027173566439e-14, 4.7855888605252046e-15],\n",
       " [3.6683778667876653e-13, 4.153547017200798e-13],\n",
       " [3.14780298417162e-13, 8.529229552740157e-13],\n",
       " [3.4797657202836824e-15, 8.96438856247283e-15],\n",
       " [1.3756584080516372e-13, 7.18211347038752e-13],\n",
       " [6.288413400110005e-17, 9.572226602824172e-16],\n",
       " [1.0352156045142916e-13, 2.913628881193047e-14],\n",
       " [1.7526821523274688e-14, 1.025653677642847e-14],\n",
       " [5.491160673170286e-15, 7.893561045784311e-18],\n",
       " [2.2373877172217215e-14, 8.939710934197302e-13],\n",
       " [8.504988867774695e-14, 2.989886089791469e-13],\n",
       " [2.920631877789603e-13, 2.6066857886388913e-12],\n",
       " [9.688895793508753e-14, 1.1094606355832862e-12],\n",
       " [2.1180975184840923e-14, 2.794097961185859e-14],\n",
       " [8.171460157651192e-15, 4.870577759629532e-13],\n",
       " [3.2183166593789637e-13, 1.2579240267273622e-12],\n",
       " [6.309553243340566e-14, 2.0919065954944467e-12],\n",
       " [1.7489244850397553e-14, 4.080985351619199e-13],\n",
       " [1.3838532156337215e-14, 1.3189050253474214e-17],\n",
       " [1.1464021522645216e-14, 3.2817324443770066e-16],\n",
       " [1.5267484756187464e-13, 2.822863324324901e-13],\n",
       " [2.381408053674939e-15, 4.0905327312362935e-15],\n",
       " [2.4364849894328986e-22, 9.276013657504238e-20],\n",
       " [1.009978130480547e-17, 2.1793816823103706e-16],\n",
       " [1.440162149883875e-14, 1.4487036195330647e-14],\n",
       " [1.4011370583622902e-14, 6.078430044112176e-13],\n",
       " [6.672197552393507e-15, 5.087165857171718e-13],\n",
       " [8.220517810940428e-17, 2.1784258067402656e-16],\n",
       " [3.004735803138754e-13, 7.638348743369758e-14],\n",
       " [7.136871306287357e-14, 6.979779905610718e-14],\n",
       " [3.077900653751466e-14, 1.5056740611540975e-12],\n",
       " [1.0535548168918331e-12, 2.130807255057564e-12],\n",
       " [1.6776724755439934e-22, 1.3083266997564072e-35],\n",
       " [1.1750617617697621e-13, 2.413864179255219e-13],\n",
       " [9.565607163303055e-14, 1.7864803006784707e-12],\n",
       " [7.398384719484373e-14, 1.7537510102317973e-12],\n",
       " [2.4876865508248646e-13, 5.063485242121366e-13],\n",
       " [2.5687929310554917e-14, 2.0881807434458128e-13],\n",
       " [5.225256137450953e-13, 1.6906449210669678e-12],\n",
       " [7.506944644107847e-14, 1.3641926086899178e-12],\n",
       " [1.2538683169827794e-13, 1.042536293586612e-12],\n",
       " [2.2815801157380634e-14, 1.3960133743876304e-14],\n",
       " [6.235922911508326e-14, 1.7453192837477079e-12],\n",
       " [1.4101250599035392e-13, 7.12097194799124e-14],\n",
       " [2.2152686643647928e-13, 5.710597756536945e-13],\n",
       " [5.191071442431251e-15, 2.5895537893584647e-16],\n",
       " [2.086550875628719e-14, 3.771440754679344e-14],\n",
       " [1.2706434453431075e-13, 8.774972614813911e-13],\n",
       " [4.852475622548007e-15, 6.614265951025499e-18],\n",
       " [1.484222117544563e-13, 2.2875920601444497e-12],\n",
       " [5.0545703978076205e-14, 8.426370220482926e-13],\n",
       " [2.3166381018722767e-13, 1.0044197971434242e-13],\n",
       " [2.361161133812133e-13, 1.1344854501501637e-12],\n",
       " [6.610638457238097e-13, 4.808577062796459e-13],\n",
       " [2.168398895601447e-13, 1.1571009151470209e-12],\n",
       " [3.475056451995818e-15, 3.4398347976265166e-16],\n",
       " [1.7881205458611943e-13, 2.790952805333423e-13],\n",
       " [1.39694443071922e-13, 8.413109728503916e-14],\n",
       " [4.7623584615625304e-14, 1.0911607963786457e-12],\n",
       " [1.8162386005711595e-13, 5.3195189152110727e-14],\n",
       " [7.311186688652294e-16, 5.057845399109628e-17],\n",
       " [3.239915665299857e-17, 1.0428053434007438e-15],\n",
       " [3.153504210994857e-14, 1.0357563760906361e-13],\n",
       " [3.3076399557551216e-15, 1.768210146016589e-17],\n",
       " [3.595715381595233e-13, 4.9955452951105436e-14],\n",
       " [3.3651990564736884e-14, 2.4915072913016684e-13],\n",
       " [4.549143125115616e-13, 2.5517249187294024e-14],\n",
       " [1.371912580456019e-13, 1.8666608658412868e-12],\n",
       " [9.949472928985467e-14, 2.973573174280404e-13],\n",
       " [6.138044540614746e-17, 2.7766615025746185e-16],\n",
       " [4.365778059966597e-14, 8.166008693727765e-14],\n",
       " [9.924074116123158e-17, 1.2412281899660114e-16],\n",
       " [1.1228022737817577e-13, 7.020582680031756e-14],\n",
       " [1.3921026795820115e-13, 6.129208098861559e-15],\n",
       " [5.579562320949041e-14, 1.4250709901304247e-12],\n",
       " [3.243556551443033e-13, 2.71863892887635e-13],\n",
       " [1.3851644447615342e-15, 1.4881996480100308e-18],\n",
       " [1.438748839804062e-13, 8.472110153956058e-15],\n",
       " [9.966240408204903e-13, 2.1899978807997205e-12],\n",
       " [1.5888693062149338e-13, 4.944259218722244e-13],\n",
       " [4.324746311277532e-14, 1.7895423845287163e-13],\n",
       " [2.3377683176815295e-13, 2.4314574388123087e-12],\n",
       " [9.780876350009777e-14, 3.8810566464898355e-13],\n",
       " [1.394251295624935e-13, 5.694255803197936e-14],\n",
       " [2.8118069092159642e-14, 3.028716626934904e-15],\n",
       " [1.1764563932883375e-14, 2.0717675649999785e-15],\n",
       " [1.966244769988559e-13, 1.0097932184253816e-12],\n",
       " [5.087626810228279e-13, 1.0531550206247615e-12],\n",
       " [3.3123222269777775e-13, 1.6473239293330105e-13],\n",
       " [6.307610412720294e-15, 2.1858404363776004e-15],\n",
       " [3.9180275120242475e-14, 3.071774927921193e-14],\n",
       " [3.307715698775791e-14, 6.831864952822989e-13],\n",
       " [2.4992777412517407e-16, 1.842965330865317e-15],\n",
       " [2.5087423797945245e-14, 7.658743150050811e-17],\n",
       " [6.7549093628821704e-15, 6.620731170395894e-15],\n",
       " [3.59527227640026e-13, 7.679604673230677e-13],\n",
       " [8.251226176207736e-14, 1.500341065480157e-13],\n",
       " [5.330752364822287e-14, 2.0074515745298953e-15],\n",
       " [9.72644908857262e-14, 2.1119978179923217e-13],\n",
       " [4.3833266725294767e-13, 2.5499498981830477e-12],\n",
       " [1.922261179077799e-19, 4.812195973821616e-16],\n",
       " [3.045868377939168e-14, 3.940623791770641e-15],\n",
       " [4.84231034295475e-14, 1.8872156771275522e-13],\n",
       " [9.184435855563457e-14, 8.923910351643424e-14],\n",
       " [3.2789431126039023e-13, 9.27450891591101e-13],\n",
       " [8.021382373883725e-15, 6.630081973172652e-13],\n",
       " [5.350687382314778e-19, 1.0853777898622692e-22],\n",
       " [5.115459891539329e-13, 1.0653228534607908e-12],\n",
       " [5.390451830870352e-15, 4.208630112031541e-15],\n",
       " [9.115479948107735e-15, 6.181596498186452e-16],\n",
       " [1.0371091183382207e-12, 2.2309596383197887e-12],\n",
       " [6.078793309609106e-14, 2.3534401536396573e-13],\n",
       " [2.0672319434557794e-13, 2.859812608100273e-12],\n",
       " [1.0732717447943932e-14, 1.5288984637804155e-14],\n",
       " [5.002012601867853e-14, 2.889220018335094e-14],\n",
       " [2.9395160376402004e-13, 4.414456694321871e-13],\n",
       " [3.006701670191232e-13, 6.81934749669668e-13],\n",
       " [3.6814207011710624e-14, 8.425473958694001e-13],\n",
       " [2.1494447830472079e-16, 6.049497641137583e-16],\n",
       " [1.525123833961078e-14, 2.9662888837601715e-15],\n",
       " [2.9212937388593384e-14, 7.338167128963231e-16],\n",
       " [3.345715945502549e-14, 1.36314104827855e-12],\n",
       " [7.79287137106823e-14, 2.337949577126534e-13],\n",
       " [2.3915785980276545e-14, 2.3746372738964214e-16],\n",
       " [1.1145904652520542e-14, 8.783473821293046e-15],\n",
       " [2.236886207505825e-23, 1.8815635926209064e-19],\n",
       " [4.736400247896022e-14, 2.341486950140367e-12],\n",
       " [1.3615919273551638e-13, 1.4403397710251752e-12],\n",
       " [2.505646412959337e-13, 3.7342844384077365e-13],\n",
       " [1.2435457971565849e-13, 9.919439132056546e-14],\n",
       " [2.001346182989613e-14, 7.541202733642098e-14],\n",
       " [1.2351954400298833e-13, 4.5405151579935607e-13],\n",
       " [1.9407918431083885e-19, 1.7234150357535757e-19],\n",
       " [9.530544482388027e-15, 3.3305576493410174e-15],\n",
       " [5.77716571683059e-14, 4.4993172382625915e-13],\n",
       " [4.669487405660704e-13, 7.920018637295726e-13],\n",
       " [3.216965734901812e-13, 1.6869917246916418e-14],\n",
       " [8.00131322791778e-14, 3.0679780361755345e-13],\n",
       " [6.476750607937581e-14, 3.1893931646376787e-15],\n",
       " [6.524424918947437e-15, 1.1674911985324044e-14],\n",
       " [1.883360180578877e-13, 9.584110492963988e-13],\n",
       " [8.947852174335092e-14, 2.3225348154213303e-12],\n",
       " [2.8488860455726684e-14, 5.089516052177052e-13],\n",
       " [1.758251084985038e-14, 5.429764225265997e-14],\n",
       " [1.8799867673098012e-13, 2.315061228751287e-14],\n",
       " [1.3318990504151796e-14, 2.5106914673278494e-13],\n",
       " [5.480787242108614e-15, 7.002611846084404e-13],\n",
       " [3.886383293017394e-13, 2.2149533441331078e-14],\n",
       " [1.4479514907680048e-13, 1.3701642564554558e-12],\n",
       " [1.1036636144088154e-14, 1.8591585132863114e-16],\n",
       " [1.737852117035575e-13, 2.628474780310653e-13],\n",
       " [1.1446744962519732e-13, 8.900885932057899e-13],\n",
       " [3.4362820153860745e-14, 6.48886378613907e-13],\n",
       " [1.9913392362050747e-14, 2.116692103514731e-14],\n",
       " [9.691949095566605e-15, 5.727692923070477e-13],\n",
       " [2.0764665729780702e-14, 5.11713661717654e-16],\n",
       " [2.0962430639977573e-16, 4.040923845208599e-21],\n",
       " [1.2679362607267782e-13, 2.1201055802823885e-14],\n",
       " [9.202660442783184e-14, 1.9860755180224478e-12],\n",
       " [2.963543461712348e-14, 3.5242721341141837e-15],\n",
       " [4.1095723518329006e-14, 8.789698736103756e-13],\n",
       " [1.423048125395478e-13, 2.714185336044248e-13],\n",
       " [3.1486737654595107e-15, 4.0632936919538976e-18],\n",
       " [7.467181144784713e-14, 1.1591911452702225e-12],\n",
       " [3.706001460980142e-13, 1.28978997232957e-12],\n",
       " [9.426982208841446e-14, 1.1041412385598844e-12],\n",
       " [1.860603809311758e-15, 3.7359764619022e-16],\n",
       " [4.694051335272077e-13, 3.904139865575576e-12],\n",
       " [2.0201043093093532e-14, 1.61488813929551e-16],\n",
       " [3.9572323325708005e-13, 1.1089425393197125e-12],\n",
       " [4.779484679964014e-14, 2.5273260012859954e-13],\n",
       " [2.4511192032902118e-14, 8.244398544183681e-15],\n",
       " [5.788722767495903e-14, 1.505274275287092e-12],\n",
       " [1.8286981689054916e-13, 9.007438822903638e-14],\n",
       " [3.4843606887850247e-13, 9.943872069392632e-13],\n",
       " [3.0890728171042526e-13, 6.658619998021808e-13],\n",
       " [6.816336025899627e-16, 7.831492751580153e-16],\n",
       " [2.0000496224117657e-13, 1.6279131092267832e-12],\n",
       " [4.2502551451232e-15, 4.511157776522772e-17],\n",
       " [2.976988108343179e-13, 1.55342660510351e-14],\n",
       " [1.455061545400253e-14, 7.512827701026138e-14],\n",
       " [1.251621516993007e-13, 7.409826158645222e-13],\n",
       " [3.7307330235860735e-14, 1.6429395222320025e-13],\n",
       " [9.567308419553582e-14, 9.773535351166877e-16],\n",
       " [4.92066234514765e-14, 2.181350651316702e-14],\n",
       " [4.794655936975778e-13, 1.896338649406888e-12],\n",
       " [3.553999986521331e-14, 7.816062367784831e-14],\n",
       " [1.872016497326792e-13, 1.1212973220457112e-13],\n",
       " [1.231528910146237e-13, 5.516604436233553e-13],\n",
       " [3.256425909560055e-17, 1.0709104587832716e-16],\n",
       " [3.1235413401787284e-16, 9.205385581482946e-16],\n",
       " [2.049621732345658e-13, 2.2295043131418005e-13],\n",
       " [1.6426102263732915e-14, 6.126377953569946e-15],\n",
       " [5.965581514467144e-23, 4.807546640581494e-19],\n",
       " [3.171567760078157e-13, 1.189351058558412e-12],\n",
       " [3.9536931565187844e-15, 3.293807496478488e-16],\n",
       " [9.149424161706666e-16, 6.256395400214305e-19],\n",
       " [1.7428083533667091e-13, 2.305431256362519e-12]]"
      ]
     },
     "execution_count": 31,
     "metadata": {},
     "output_type": "execute_result"
    }
   ],
   "source": [
    "predictions_raw"
   ]
  },
  {
   "cell_type": "code",
   "execution_count": 43,
   "metadata": {},
   "outputs": [
    {
     "data": {
      "text/plain": [
       "231"
      ]
     },
     "execution_count": 43,
     "metadata": {},
     "output_type": "execute_result"
    }
   ],
   "source": [
    "len(test_y)\n",
    "tt=test_y.to_numpy()\n",
    "tt\n",
    "len(tt)"
   ]
  },
  {
   "cell_type": "code",
   "execution_count": 33,
   "metadata": {
    "colab": {},
    "colab_type": "code",
    "id": "4I8_m_yDJZJb"
   },
   "outputs": [],
   "source": [
    "predictions = []\n",
    "for row in predictions_raw:\n",
    "  if(row[0]>row[1]):\n",
    "    predictions.append(1)\n",
    "  else:\n",
    "    predictions.append(0)"
   ]
  },
  {
   "cell_type": "code",
   "execution_count": 34,
   "metadata": {},
   "outputs": [
    {
     "data": {
      "text/plain": [
       "231"
      ]
     },
     "execution_count": 34,
     "metadata": {},
     "output_type": "execute_result"
    }
   ],
   "source": [
    "len(predictions)"
   ]
  },
  {
   "cell_type": "code",
   "execution_count": 47,
   "metadata": {},
   "outputs": [
    {
     "data": {
      "text/plain": [
       "74.45887445887446"
      ]
     },
     "execution_count": 47,
     "metadata": {},
     "output_type": "execute_result"
    }
   ],
   "source": [
    "cnt=0;\n",
    "for x in range(len(tt)):\n",
    "    if tt[x]==predictions[x]:\n",
    "        cnt=cnt+1\n",
    "\n",
    "ans=(cnt/float(len(test_y))) * 100.0\n",
    "ans"
   ]
  },
  {
   "cell_type": "code",
   "execution_count": null,
   "metadata": {},
   "outputs": [],
   "source": []
  },
  {
   "cell_type": "code",
   "execution_count": 23,
   "metadata": {
    "colab": {
     "base_uri": "https://localhost:8080/",
     "height": 51
    },
    "colab_type": "code",
    "id": "9KUQuYfALU8x",
    "outputId": "41f00390-c963-4d21-dba9-6e5cbca3bf68"
   },
   "outputs": [
    {
     "data": {
      "text/plain": [
       "array([[114,  32],\n",
       "       [ 34,  51]])"
      ]
     },
     "execution_count": 23,
     "metadata": {},
     "output_type": "execute_result"
    }
   ],
   "source": [
    "confusion_matrix(test_y.tolist(), predictions)\n"
   ]
  }
 ],
 "metadata": {
  "colab": {
   "collapsed_sections": [],
   "include_colab_link": true,
   "name": "DA2(without Sklearn Naive bayes).ipynb",
   "provenance": [],
   "toc_visible": true
  },
  "kernelspec": {
   "display_name": "Python 3",
   "language": "python",
   "name": "python3"
  },
  "language_info": {
   "codemirror_mode": {
    "name": "ipython",
    "version": 3
   },
   "file_extension": ".py",
   "mimetype": "text/x-python",
   "name": "python",
   "nbconvert_exporter": "python",
   "pygments_lexer": "ipython3",
   "version": "3.7.3"
  }
 },
 "nbformat": 4,
 "nbformat_minor": 1
}
