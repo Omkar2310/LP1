{
 "cells": [
  {
   "cell_type": "code",
   "execution_count": 1,
   "metadata": {},
   "outputs": [],
   "source": [
    "import numpy as np"
   ]
  },
  {
   "cell_type": "code",
   "execution_count": 2,
   "metadata": {
    "colab": {},
    "colab_type": "code",
    "executionInfo": {
     "elapsed": 1085,
     "status": "ok",
     "timestamp": 1600925009197,
     "user": {
      "displayName": "Megh Khaire",
      "photoUrl": "",
      "userId": "06825232502851640649"
     },
     "user_tz": -330
    },
    "id": "7cdgTqsl0wl9"
   },
   "outputs": [],
   "source": [
    "class Node:\n",
    "  def __init__(self,data,level,fval):\n",
    "    #Initialize the node with the data, level of the node and the calculated fvalue\n",
    "    self.data = data\n",
    "    self.level = level\n",
    "    self.fval = fval\n",
    "\n",
    "  def generate_child(self):\n",
    "    # Generate child nodes from the given node by moving the blank space\n",
    "    x,y = self.find(self.data,'_')\n",
    "    # [up,down,left,right]\n",
    "    val_list = [[x,y-1],[x,y+1],[x-1,y],[x+1,y]]\n",
    "    children = []\n",
    "    for i in val_list:\n",
    "      child = self.shuffle(self.data,x,y,i[0],i[1])\n",
    "      if child is not None:\n",
    "        child_node = Node(child,self.level+1,0)\n",
    "        children.append(child_node)\n",
    "    return children\n",
    "      \n",
    "  def shuffle(self,puz,x1,y1,x2,y2):\n",
    "    #Move the blank space in the given direction\n",
    "    #Check limit and return None if limit is crossed\n",
    "    if x2 >= 0 and x2 < len(self.data) and y2 >= 0 and y2 < len(self.data):\n",
    "      temp_puz = []\n",
    "      temp_puz = [row[:] for row in puz]\n",
    "      temp = temp_puz[x2][y2]\n",
    "      temp_puz[x2][y2] = temp_puz[x1][y1]\n",
    "      temp_puz[x1][y1] = temp\n",
    "      return temp_puz\n",
    "    else:\n",
    "      return None \n",
    "            \n",
    "  def find(self,puz,x):\n",
    "    # Find position of blank space\n",
    "    for i in range(0,len(self.data)):\n",
    "      for j in range(0,len(self.data)):\n",
    "        if puz[i][j] == x:\n",
    "          return i,j"
   ]
  },
  {
   "cell_type": "code",
   "execution_count": 3,
   "metadata": {
    "colab": {
     "base_uri": "https://localhost:8080/",
     "height": 638
    },
    "colab_type": "code",
    "executionInfo": {
     "elapsed": 13503,
     "status": "ok",
     "timestamp": 1600925025955,
     "user": {
      "displayName": "Megh Khaire",
      "photoUrl": "",
      "userId": "06825232502851640649"
     },
     "user_tz": -330
    },
    "id": "efI4mzu5eyBC",
    "outputId": "20bce980-3053-4407-adf1-6a8a584231aa"
   },
   "outputs": [],
   "source": [
    "class Puzzle:\n",
    "  def __init__(self,size):\n",
    "    # Initialize the puzzle size by the specified size\n",
    "    self.n = size\n",
    "    self.open = []\n",
    "    self.closed = []\n",
    "\n",
    "  def isSolvable(self,matrix):\n",
    "    matrix = list(np.concatenate(matrix).flat)\n",
    "    count = 0\n",
    "    for i in range(len(matrix)):\n",
    "      for j in range(i+1, len(matrix)):\n",
    "        if (matrix[i] != '_' and matrix[j] != '_' and matrix[i] > matrix[j]):\n",
    "          count += 1\n",
    "    return count % 2 == 0\n",
    "\n",
    "  def accept(self):\n",
    "    # Accepts the puzzle from the user\n",
    "    puz = []\n",
    "    for i in range(0,self.n):\n",
    "      temp = input().split(\" \")\n",
    "      puz.append(temp)\n",
    "    return puz\n",
    "\n",
    "  def f(self,start,goal):\n",
    "    # f(x) = h(x) + g(x)\n",
    "    return self.h(start.data,goal)+start.level\n",
    "\n",
    "  def h(self,start,goal):\n",
    "    # Calculates the different between the given puzzles\n",
    "    temp = 0\n",
    "    for i in range(0,self.n):\n",
    "      for j in range(0,self.n):\n",
    "        if start[i][j] != goal[i][j] and start[i][j] != '_':\n",
    "          temp += 1\n",
    "    return temp\n",
    "        \n",
    "  def show(self, cur, goal):\n",
    "    print(\"\\nNEXT STEP:\", cur.level+1, \"\\n\") \n",
    "    for i in cur.data:\n",
    "      for j in i:\n",
    "          print(j,end=\" \")      \n",
    "      print(\"\")\n",
    "    print(\"g = \", cur.level, \", h = \", self.h(cur.data, goal), \", f =\", cur.fval)\n",
    "\n",
    "  def process(self):\n",
    "    # Accept Start and Goal Puzzle state\n",
    "    print(\"\\nEnter the start state matrix: \\n\")\n",
    "    start = self.accept()\n",
    "    print(\"Start state matrix:\\n\" ,start)\n",
    "    goal = [['1', '2', '3'], ['4', '5', '6'], ['7', '8', '_']]  #goal state\n",
    "\n",
    "    if(self.isSolvable(start)):\n",
    "      start = Node(start,0,0)\n",
    "      start.fval = self.f(start,goal)\n",
    "      # Put the start node in the open list\n",
    "      self.open.append(start)\n",
    "      while True:\n",
    "        cur = self.open[0]\n",
    "        self.show(cur,goal)\n",
    "        # If the difference between current and goal node is 0 we have reached the goal node\n",
    "        if(self.h(cur.data,goal) == 0):\n",
    "          print(\"Goal state reached!\")\n",
    "          break\n",
    "        for i in cur.generate_child():\n",
    "          i.fval = self.f(i,goal)\n",
    "          self.open.append(i)\n",
    "        self.closed.append(cur)\n",
    "        del self.open[0]\n",
    "        # sort the open list based on f value\n",
    "        self.open.sort(key = lambda x:x.fval,reverse=False)\n",
    "    else:\n",
    "      print(\"\\nThe given 8 puzzle problem is not solvable\")"
   ]
  },
  {
   "cell_type": "code",
   "execution_count": 4,
   "metadata": {},
   "outputs": [
    {
     "name": "stdout",
     "output_type": "stream",
     "text": [
      "\n",
      "Enter the start state matrix: \n",
      "\n",
      "1 2 3\n",
      "4 5 6\n",
      "_ 8 7\n",
      "Start state matrix:\n",
      " [['1', '2', '3'], ['4', '5', '6'], ['_', '8', '7']]\n",
      "\n",
      "The given 8 puzzle problem is not solvable\n"
     ]
    }
   ],
   "source": [
    "puz = Puzzle(3)\n",
    "puz.process()"
   ]
  }
 ],
 "metadata": {
  "colab": {
   "authorship_tag": "ABX9TyO/wV3aLmnMaNgtdP7yIBRP",
   "collapsed_sections": [],
   "name": "41230_AIR_B1",
   "provenance": []
  },
  "kernelspec": {
   "display_name": "Python 3",
   "language": "python",
   "name": "python3"
  },
  "language_info": {
   "codemirror_mode": {
    "name": "ipython",
    "version": 3
   },
   "file_extension": ".py",
   "mimetype": "text/x-python",
   "name": "python",
   "nbconvert_exporter": "python",
   "pygments_lexer": "ipython3",
   "version": "3.7.6"
  }
 },
 "nbformat": 4,
 "nbformat_minor": 1
}
