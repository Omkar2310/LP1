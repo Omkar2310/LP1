{
  "nbformat": 4,
  "nbformat_minor": 0,
  "metadata": {
    "colab": {
      "name": "AIR3.ipynb",
      "provenance": []
    },
    "kernelspec": {
      "name": "python3",
      "display_name": "Python 3"
    },
    "accelerator": "GPU"
  },
  "cells": [
    {
      "cell_type": "code",
      "metadata": {
        "id": "iUNnM-FBf7YL"
      },
      "source": [
        "import nltk"
      ],
      "execution_count": null,
      "outputs": []
    },
    {
      "cell_type": "code",
      "metadata": {
        "id": "_CWKH6Tnf_Cl",
        "colab": {
          "base_uri": "https://localhost:8080/"
        },
        "outputId": "b5c069c4-9f6b-4a63-9e38-dd6637c697c2"
      },
      "source": [
        "from nltk.tokenize import word_tokenize\n",
        "nltk.download('punkt')\n",
        "nltk.download('averaged_perceptron_tagger')\n",
        "\n",
        "text = '''Drawing his sword, he charged down the river to protect his daughter. Parvateshwar\n",
        "followed Daksha, his sword drawn for batde. Within moments, they had jumped into the\n",
        "fray. Parvateshwar charged aggressively into the pack, easily hacking many with quick\n",
        "strikes. Sati, rejuvenated by the sudden support, fought back the four dogs charging her\n",
        "all at once. Daksha, despite an obvious lack of martial skills, fought ferociously, with the\n",
        "passionately protective spirit that comes only with being a parent. But the animals could\n",
        "sense that Daksha was the weakest amongst their human enemies. Six dogs charged\n",
        "at him at the same time.'''\n",
        "\n",
        "\n"
      ],
      "execution_count": null,
      "outputs": [
        {
          "output_type": "stream",
          "text": [
            "[nltk_data] Downloading package punkt to /root/nltk_data...\n",
            "[nltk_data]   Unzipping tokenizers/punkt.zip.\n",
            "[nltk_data] Downloading package averaged_perceptron_tagger to\n",
            "[nltk_data]     /root/nltk_data...\n",
            "[nltk_data]   Unzipping taggers/averaged_perceptron_tagger.zip.\n"
          ],
          "name": "stdout"
        }
      ]
    },
    {
      "cell_type": "code",
      "metadata": {
        "id": "2wnUQmYwv3yz"
      },
      "source": [
        "from nltk import pos_tag, word_tokenize, RegexpParser "
      ],
      "execution_count": null,
      "outputs": []
    },
    {
      "cell_type": "code",
      "metadata": {
        "id": "s4VT4deDlxvH",
        "colab": {
          "base_uri": "https://localhost:8080/"
        },
        "outputId": "4d9e5c44-e664-4c01-eb01-96315feee988"
      },
      "source": [
        "text_tokenized = word_tokenize(text)\n",
        "print(text_tokenized)\n",
        "\n"
      ],
      "execution_count": null,
      "outputs": [
        {
          "output_type": "stream",
          "text": [
            "['Drawing', 'his', 'sword', ',', 'he', 'charged', 'down', 'the', 'river', 'to', 'protect', 'his', 'daughter', '.', 'Parvateshwar', 'followed', 'Daksha', ',', 'his', 'sword', 'drawn', 'for', 'batde', '.', 'Within', 'moments', ',', 'they', 'had', 'jumped', 'into', 'the', 'fray', '.', 'Parvateshwar', 'charged', 'aggressively', 'into', 'the', 'pack', ',', 'easily', 'hacking', 'many', 'with', 'quick', 'strikes', '.', 'Sati', ',', 'rejuvenated', 'by', 'the', 'sudden', 'support', ',', 'fought', 'back', 'the', 'four', 'dogs', 'charging', 'her', 'all', 'at', 'once', '.', 'Daksha', ',', 'despite', 'an', 'obvious', 'lack', 'of', 'martial', 'skills', ',', 'fought', 'ferociously', ',', 'with', 'the', 'passionately', 'protective', 'spirit', 'that', 'comes', 'only', 'with', 'being', 'a', 'parent', '.', 'But', 'the', 'animals', 'could', 'sense', 'that', 'Daksha', 'was', 'the', 'weakest', 'amongst', 'their', 'human', 'enemies', '.', 'Six', 'dogs', 'charged', 'at', 'him', 'at', 'the', 'same', 'time', '.']\n"
          ],
          "name": "stdout"
        }
      ]
    },
    {
      "cell_type": "code",
      "metadata": {
        "id": "63Tk7wBHr3gZ"
      },
      "source": [
        ""
      ],
      "execution_count": null,
      "outputs": []
    },
    {
      "cell_type": "code",
      "metadata": {
        "id": "8183qlpwf_KJ",
        "colab": {
          "base_uri": "https://localhost:8080/"
        },
        "outputId": "da92eed1-0275-4edd-8255-4f50caba2699"
      },
      "source": [
        "postag = nltk.pos_tag(text_tokenized)\n",
        "postag"
      ],
      "execution_count": null,
      "outputs": [
        {
          "output_type": "execute_result",
          "data": {
            "text/plain": [
              "[('Drawing', 'VBG'),\n",
              " ('his', 'PRP$'),\n",
              " ('sword', 'NN'),\n",
              " (',', ','),\n",
              " ('he', 'PRP'),\n",
              " ('charged', 'VBD'),\n",
              " ('down', 'RB'),\n",
              " ('the', 'DT'),\n",
              " ('river', 'NN'),\n",
              " ('to', 'TO'),\n",
              " ('protect', 'VB'),\n",
              " ('his', 'PRP$'),\n",
              " ('daughter', 'NN'),\n",
              " ('.', '.'),\n",
              " ('Parvateshwar', 'NNP'),\n",
              " ('followed', 'VBD'),\n",
              " ('Daksha', 'NNP'),\n",
              " (',', ','),\n",
              " ('his', 'PRP$'),\n",
              " ('sword', 'NN'),\n",
              " ('drawn', 'NN'),\n",
              " ('for', 'IN'),\n",
              " ('batde', 'NN'),\n",
              " ('.', '.'),\n",
              " ('Within', 'IN'),\n",
              " ('moments', 'NNS'),\n",
              " (',', ','),\n",
              " ('they', 'PRP'),\n",
              " ('had', 'VBD'),\n",
              " ('jumped', 'VBN'),\n",
              " ('into', 'IN'),\n",
              " ('the', 'DT'),\n",
              " ('fray', 'NN'),\n",
              " ('.', '.'),\n",
              " ('Parvateshwar', 'NNP'),\n",
              " ('charged', 'VBD'),\n",
              " ('aggressively', 'RB'),\n",
              " ('into', 'IN'),\n",
              " ('the', 'DT'),\n",
              " ('pack', 'NN'),\n",
              " (',', ','),\n",
              " ('easily', 'RB'),\n",
              " ('hacking', 'VBG'),\n",
              " ('many', 'JJ'),\n",
              " ('with', 'IN'),\n",
              " ('quick', 'JJ'),\n",
              " ('strikes', 'NNS'),\n",
              " ('.', '.'),\n",
              " ('Sati', 'NNP'),\n",
              " (',', ','),\n",
              " ('rejuvenated', 'VBN'),\n",
              " ('by', 'IN'),\n",
              " ('the', 'DT'),\n",
              " ('sudden', 'JJ'),\n",
              " ('support', 'NN'),\n",
              " (',', ','),\n",
              " ('fought', 'VBN'),\n",
              " ('back', 'RP'),\n",
              " ('the', 'DT'),\n",
              " ('four', 'CD'),\n",
              " ('dogs', 'NNS'),\n",
              " ('charging', 'VBG'),\n",
              " ('her', 'PRP$'),\n",
              " ('all', 'DT'),\n",
              " ('at', 'IN'),\n",
              " ('once', 'RB'),\n",
              " ('.', '.'),\n",
              " ('Daksha', 'NNP'),\n",
              " (',', ','),\n",
              " ('despite', 'IN'),\n",
              " ('an', 'DT'),\n",
              " ('obvious', 'JJ'),\n",
              " ('lack', 'NN'),\n",
              " ('of', 'IN'),\n",
              " ('martial', 'JJ'),\n",
              " ('skills', 'NNS'),\n",
              " (',', ','),\n",
              " ('fought', 'VBN'),\n",
              " ('ferociously', 'RB'),\n",
              " (',', ','),\n",
              " ('with', 'IN'),\n",
              " ('the', 'DT'),\n",
              " ('passionately', 'RB'),\n",
              " ('protective', 'JJ'),\n",
              " ('spirit', 'NN'),\n",
              " ('that', 'WDT'),\n",
              " ('comes', 'VBZ'),\n",
              " ('only', 'RB'),\n",
              " ('with', 'IN'),\n",
              " ('being', 'VBG'),\n",
              " ('a', 'DT'),\n",
              " ('parent', 'NN'),\n",
              " ('.', '.'),\n",
              " ('But', 'CC'),\n",
              " ('the', 'DT'),\n",
              " ('animals', 'NNS'),\n",
              " ('could', 'MD'),\n",
              " ('sense', 'VB'),\n",
              " ('that', 'IN'),\n",
              " ('Daksha', 'NNP'),\n",
              " ('was', 'VBD'),\n",
              " ('the', 'DT'),\n",
              " ('weakest', 'JJS'),\n",
              " ('amongst', 'VBP'),\n",
              " ('their', 'PRP$'),\n",
              " ('human', 'JJ'),\n",
              " ('enemies', 'NNS'),\n",
              " ('.', '.'),\n",
              " ('Six', 'NNP'),\n",
              " ('dogs', 'NNS'),\n",
              " ('charged', 'VBN'),\n",
              " ('at', 'IN'),\n",
              " ('him', 'PRP'),\n",
              " ('at', 'IN'),\n",
              " ('the', 'DT'),\n",
              " ('same', 'JJ'),\n",
              " ('time', 'NN'),\n",
              " ('.', '.')]"
            ]
          },
          "metadata": {
            "tags": []
          },
          "execution_count": 5
        }
      ]
    },
    {
      "cell_type": "code",
      "metadata": {
        "id": "r58TkmO0r6gw"
      },
      "source": [
        "#dictionary that contains pos tags and their explanations\n",
        "pos_dict = {\n",
        "'CC': 'coordinating conjunction',\n",
        "'CD': 'cardinal digit',\n",
        "'DT': 'determiner',\n",
        "'EX': 'existential there (like: \\\"there is\\\" ... think of it like \\\"there exists\\\")',\n",
        "'FW': 'foreign word',\n",
        "'IN':  'preposition/subordinating conjunction',\n",
        "'JJ': 'adjective \\'big\\'',\n",
        "'JJR': 'adjective, comparative \\'bigger\\'',\n",
        "'JJS': 'adjective, superlative \\'biggest\\'',\n",
        "'LS': 'list marker 1)',\n",
        "'MD': 'modal could, will',\n",
        "'NN': 'noun, singular \\'desk\\'',\n",
        "'NNS': 'noun plural \\'desks\\'',\n",
        "'NNP': 'proper noun, singular \\'Harrison\\'',\n",
        "'NNPS': 'proper noun, plural \\'Americans\\'',\n",
        "'PDT': 'predeterminer \\'all the kids\\'',\n",
        "'POS': 'possessive ending parent\\'s',\n",
        "'PRP': 'personal pronoun I, he, she',\n",
        "'PRP$': 'possessive pronoun my, his, hers',\n",
        "'RB': 'adverb very, silently,',\n",
        "'RBR': 'adverb, comparative better',\n",
        "'RBS': 'adverb, superlative best',\n",
        "'RP': 'particle give up',\n",
        "'TO': 'to go \\'to\\' the store.',\n",
        "'UH': 'interjection errrrrrrrm',\n",
        "'VB': 'verb, base form take',\n",
        "'VBD': 'verb, past tense took',\n",
        "'VBG': 'verb, gerund/present participle taking',\n",
        "'VBN': 'verb, past participle taken',\n",
        "'VBP': 'verb, sing. present, non-3d take',\n",
        "'VBZ': 'verb, 3rd person sing. present takes',\n",
        "'WDT': 'wh-determiner which',\n",
        "'WP': 'wh-pronoun who, what',\n",
        "'WP$': 'possessive wh-pronoun whose',\n",
        "'WRB': 'wh-abverb where, when',\n",
        "'QF' : 'quantifier, bahut, thoda, kam (Hindi)',\n",
        "'VM' : 'main verb',\n",
        "'PSP' : 'postposition, common in indian langs',\n",
        "'DEM' : 'demonstrative, common in indian langs'\n",
        "}\n"
      ],
      "execution_count": null,
      "outputs": []
    },
    {
      "cell_type": "code",
      "metadata": {
        "id": "FewEAtr-s_hN"
      },
      "source": [
        ""
      ],
      "execution_count": null,
      "outputs": []
    },
    {
      "cell_type": "code",
      "metadata": {
        "id": "sDKJpduroZMU"
      },
      "source": [
        ""
      ],
      "execution_count": null,
      "outputs": []
    },
    {
      "cell_type": "code",
      "metadata": {
        "id": "SO9vIukDf_RZ",
        "colab": {
          "base_uri": "https://localhost:8080/"
        },
        "outputId": "22f562f8-6413-4a4f-de4f-ee5830b2883d"
      },
      "source": [
        "!pip install stanfordnlp"
      ],
      "execution_count": null,
      "outputs": [
        {
          "output_type": "stream",
          "text": [
            "Collecting stanfordnlp\n",
            "\u001b[?25l  Downloading https://files.pythonhosted.org/packages/41/bf/5d2898febb6e993fcccd90484cba3c46353658511a41430012e901824e94/stanfordnlp-0.2.0-py3-none-any.whl (158kB)\n",
            "\r\u001b[K     |██                              | 10kB 27.4MB/s eta 0:00:01\r\u001b[K     |████▏                           | 20kB 18.5MB/s eta 0:00:01\r\u001b[K     |██████▏                         | 30kB 15.3MB/s eta 0:00:01\r\u001b[K     |████████▎                       | 40kB 12.4MB/s eta 0:00:01\r\u001b[K     |██████████▎                     | 51kB 10.1MB/s eta 0:00:01\r\u001b[K     |████████████▍                   | 61kB 9.5MB/s eta 0:00:01\r\u001b[K     |██████████████▌                 | 71kB 9.7MB/s eta 0:00:01\r\u001b[K     |████████████████▌               | 81kB 9.9MB/s eta 0:00:01\r\u001b[K     |██████████████████▋             | 92kB 9.0MB/s eta 0:00:01\r\u001b[K     |████████████████████▋           | 102kB 9.3MB/s eta 0:00:01\r\u001b[K     |██████████████████████▊         | 112kB 9.3MB/s eta 0:00:01\r\u001b[K     |████████████████████████▊       | 122kB 9.3MB/s eta 0:00:01\r\u001b[K     |██████████████████████████▉     | 133kB 9.3MB/s eta 0:00:01\r\u001b[K     |█████████████████████████████   | 143kB 9.3MB/s eta 0:00:01\r\u001b[K     |███████████████████████████████ | 153kB 9.3MB/s eta 0:00:01\r\u001b[K     |████████████████████████████████| 163kB 9.3MB/s \n",
            "\u001b[?25hRequirement already satisfied: numpy in /usr/local/lib/python3.6/dist-packages (from stanfordnlp) (1.18.5)\n",
            "Requirement already satisfied: requests in /usr/local/lib/python3.6/dist-packages (from stanfordnlp) (2.23.0)\n",
            "Requirement already satisfied: tqdm in /usr/local/lib/python3.6/dist-packages (from stanfordnlp) (4.41.1)\n",
            "Requirement already satisfied: torch>=1.0.0 in /usr/local/lib/python3.6/dist-packages (from stanfordnlp) (1.6.0+cu101)\n",
            "Requirement already satisfied: protobuf in /usr/local/lib/python3.6/dist-packages (from stanfordnlp) (3.12.4)\n",
            "Requirement already satisfied: chardet<4,>=3.0.2 in /usr/local/lib/python3.6/dist-packages (from requests->stanfordnlp) (3.0.4)\n",
            "Requirement already satisfied: urllib3!=1.25.0,!=1.25.1,<1.26,>=1.21.1 in /usr/local/lib/python3.6/dist-packages (from requests->stanfordnlp) (1.24.3)\n",
            "Requirement already satisfied: certifi>=2017.4.17 in /usr/local/lib/python3.6/dist-packages (from requests->stanfordnlp) (2020.6.20)\n",
            "Requirement already satisfied: idna<3,>=2.5 in /usr/local/lib/python3.6/dist-packages (from requests->stanfordnlp) (2.10)\n",
            "Requirement already satisfied: future in /usr/local/lib/python3.6/dist-packages (from torch>=1.0.0->stanfordnlp) (0.16.0)\n",
            "Requirement already satisfied: six>=1.9 in /usr/local/lib/python3.6/dist-packages (from protobuf->stanfordnlp) (1.15.0)\n",
            "Requirement already satisfied: setuptools in /usr/local/lib/python3.6/dist-packages (from protobuf->stanfordnlp) (50.3.0)\n",
            "Installing collected packages: stanfordnlp\n",
            "Successfully installed stanfordnlp-0.2.0\n"
          ],
          "name": "stdout"
        }
      ]
    },
    {
      "cell_type": "code",
      "metadata": {
        "id": "dg5ChMYUqO2z"
      },
      "source": [
        ""
      ],
      "execution_count": null,
      "outputs": []
    },
    {
      "cell_type": "code",
      "metadata": {
        "id": "fuAC85EVqPCg"
      },
      "source": [
        ""
      ],
      "execution_count": null,
      "outputs": []
    },
    {
      "cell_type": "code",
      "metadata": {
        "id": "NmoN-z5lpxRr"
      },
      "source": [
        "import stanfordnlp"
      ],
      "execution_count": null,
      "outputs": []
    },
    {
      "cell_type": "code",
      "metadata": {
        "id": "fSwNB3HhqnOv",
        "colab": {
          "base_uri": "https://localhost:8080/"
        },
        "outputId": "44188cff-3ea9-4e14-8c66-950dbf8e9f5f"
      },
      "source": [
        "stanfordnlp.download('en')"
      ],
      "execution_count": null,
      "outputs": [
        {
          "output_type": "stream",
          "text": [
            "Using the default treebank \"en_ewt\" for language \"en\".\n",
            "Would you like to download the models for: en_ewt now? (Y/n)\n",
            "y\n",
            "\n",
            "Default download directory: /root/stanfordnlp_resources\n",
            "Hit enter to continue or type an alternate directory.\n",
            "y\n",
            "\n",
            "Downloading models for: en_ewt\n",
            "Download location: y/en_ewt_models.zip\n"
          ],
          "name": "stdout"
        },
        {
          "output_type": "stream",
          "text": [
            "100%|██████████| 235M/235M [02:37<00:00, 1.49MB/s]\n"
          ],
          "name": "stderr"
        },
        {
          "output_type": "stream",
          "text": [
            "\n",
            "Download complete.  Models saved to: y/en_ewt_models.zip\n",
            "Extracting models file for: en_ewt\n",
            "Cleaning up...Done.\n"
          ],
          "name": "stdout"
        }
      ]
    },
    {
      "cell_type": "code",
      "metadata": {
        "id": "CStd0qxqqPp-"
      },
      "source": [
        ""
      ],
      "execution_count": null,
      "outputs": []
    },
    {
      "cell_type": "code",
      "metadata": {
        "id": "HLSAsvm2qPxL"
      },
      "source": [
        ""
      ],
      "execution_count": null,
      "outputs": []
    },
    {
      "cell_type": "code",
      "metadata": {
        "id": "EskXIcsOqP3x"
      },
      "source": [
        "chunker = RegexpParser(\"\"\" \n",
        "                       NP: {<DT>?<JJ>*<NN>}    #To extract Noun Phrases \n",
        "                       P: {<IN>}               #To extract Prepositions \n",
        "                       V: {<V.*>}              #To extract Verbs \n",
        "                       PP: {<P> <NP>}          #To extract Prepostional Phrases \n",
        "                       VP: {<V> <NP|PP>*}      #To extarct Verb Phrases \n",
        "                       \"\"\") "
      ],
      "execution_count": null,
      "outputs": []
    },
    {
      "cell_type": "code",
      "metadata": {
        "id": "n1MA3HgVqP_K"
      },
      "source": [
        ""
      ],
      "execution_count": null,
      "outputs": []
    },
    {
      "cell_type": "code",
      "metadata": {
        "id": "xNdsDVeCp0Ug",
        "colab": {
          "base_uri": "https://localhost:8080/"
        },
        "outputId": "d7977cdf-272e-4967-c53f-3b78f22b02ba"
      },
      "source": [
        "\n",
        "sample='I drive car to my hometown'\n",
        "\n",
        "tokenwords=pos_tag(word_tokenize(sample))\n",
        "# Print all parts of speech in above sentence \n",
        "output = chunker.parse(tokenwords) \n",
        "# output.draw()\n",
        "print(\"After Extracting\\n\", output) "
      ],
      "execution_count": null,
      "outputs": [
        {
          "output_type": "stream",
          "text": [
            "After Extracting\n",
            " (S\n",
            "  I/PRP\n",
            "  (VP (V drive/VBP) (NP car/NN))\n",
            "  to/TO\n",
            "  my/PRP$\n",
            "  (NP hometown/NN))\n"
          ],
          "name": "stdout"
        }
      ]
    },
    {
      "cell_type": "code",
      "metadata": {
        "id": "uhc_ROtOxVY-",
        "colab": {
          "base_uri": "https://localhost:8080/"
        },
        "outputId": "3bba83fa-3a72-4ef3-d9f2-d70b04db08e7"
      },
      "source": [
        "sample1='I am attending  online class'\n",
        "\n",
        "tokenwords=pos_tag(word_tokenize(sample1))\n",
        "# Print all parts of speech in above sentence \n",
        "output = chunker.parse(tokenwords) \n",
        "# output.draw()\n",
        "print(\"After Extracting\\n\", output) "
      ],
      "execution_count": null,
      "outputs": [
        {
          "output_type": "stream",
          "text": [
            "After Extracting\n",
            " (S\n",
            "  I/PRP\n",
            "  (VP (V am/VBP))\n",
            "  (VP (V attending/VBG) (NP online/NN) (NP class/NN)))\n"
          ],
          "name": "stdout"
        }
      ]
    },
    {
      "cell_type": "code",
      "metadata": {
        "id": "hYblwLBiwcpq"
      },
      "source": [
        ""
      ],
      "execution_count": null,
      "outputs": []
    },
    {
      "cell_type": "code",
      "metadata": {
        "id": "yfRK4gLayMAc"
      },
      "source": [
        ""
      ],
      "execution_count": null,
      "outputs": []
    },
    {
      "cell_type": "code",
      "metadata": {
        "id": "bieQC7L0p0ia"
      },
      "source": [
        ""
      ],
      "execution_count": null,
      "outputs": []
    },
    {
      "cell_type": "code",
      "metadata": {
        "id": "I5kAKKqSf_Yd"
      },
      "source": [
        ""
      ],
      "execution_count": null,
      "outputs": []
    }
  ]
}